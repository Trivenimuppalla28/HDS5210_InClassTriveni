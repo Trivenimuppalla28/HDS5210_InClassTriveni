{
  "cells": [
    {
      "cell_type": "markdown",
      "metadata": {
        "id": "view-in-github",
        "colab_type": "text"
      },
      "source": [
        "<a href=\"https://colab.research.google.com/github/Trivenimuppalla28/HDS5210_InClassTriveni/blob/master/Copy_of_week03_inclass_if.ipynb\" target=\"_parent\"><img src=\"https://colab.research.google.com/assets/colab-badge.svg\" alt=\"Open In Colab\"/></a>"
      ]
    },
    {
      "cell_type": "code",
      "execution_count": null,
      "metadata": {
        "id": "RRE8IgW7lL2S"
      },
      "outputs": [],
      "source": [
        "def age_gender_label(age, gender) :\n",
        "   if age>=18 :\n",
        "    if gender == 'male' :\n",
        "      my_label = \"man\"\n",
        "    elif gender == \"female\":\n",
        "        my_label = \"women\"\n",
        "    else :\n",
        "          my_label = \"adult\"\n",
        "   else :\n",
        "\n",
        "\n",
        "    #Write a set of if conditions either sequential or inline to properly label people according to age and gender\n",
        "     return my_label"
      ]
    },
    {
      "cell_type": "code",
      "source": [
        "def another_label(gender, age):\n",
        "  if age>= 18 and gender ==\"female\" :\n",
        "    my_label = \"women\"\n",
        "  elif age>=18 and gender == \"male\" :\n",
        "     my_label = \"man\"\n",
        "\n",
        "  my_label\n"
      ],
      "metadata": {
        "id": "vYouYbIosEdN"
      },
      "execution_count": null,
      "outputs": []
    },
    {
      "cell_type": "code",
      "execution_count": null,
      "metadata": {
        "id": "iWU04DeHlL2U"
      },
      "outputs": [],
      "source": [
        "# Are there any other tests that you think we should run? Create your own tests below"
      ]
    },
    {
      "cell_type": "code",
      "source": [
        "def another_label(gender,age) :\n",
        "    assert(label(10, \"Male\")==\"boy\") # indented line within function definition\n",
        "    assert(label(10, \"Female\")==\"girl\") # indented line within function definition\n",
        "    assert(label(10, \"Non-Binary\")==\"child\") # indented line within function definition\n",
        "\n",
        "    assert(label(100, \"Male\")==\"man\") # indented line within function definition\n",
        "    assert(label(100, \"Female\")==\"woman\") # indented line within function definition\n",
        "    assert(label(100, \"Non-Binary\")==\"adult\") # indented line within function definition"
      ],
      "metadata": {
        "id": "78cPC2dVmzwd"
      },
      "execution_count": null,
      "outputs": []
    }
  ],
  "metadata": {
    "language_info": {
      "name": "python"
    },
    "colab": {
      "provenance": [],
      "include_colab_link": true
    },
    "kernelspec": {
      "name": "python3",
      "display_name": "Python 3"
    }
  },
  "nbformat": 4,
  "nbformat_minor": 0
}