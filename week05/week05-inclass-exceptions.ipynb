{
  "cells": [
    {
      "cell_type": "code",
      "execution_count": 1,
      "metadata": {
        "id": "qdrjfYVd2Qc8"
      },
      "outputs": [],
      "source": [
        "### Change this function to raise Value Errors for the Invalid respiratory rate, Invalid Pulse OX, and Invalid 02 Flow Rate\n",
        "\n",
        "def qcsi(respiratory_rate, pulse_ox, o2_flow):\n",
        "    \"\"\"(int, int, int) -> str\n",
        "    * respiratory_rate is an integer value\n",
        "    * pulse_ox is an integer value (e.g. 30 means 30%)\n",
        "    * o2_flow is an integer value\n",
        "    \"\"\"\n",
        "\n",
        "    ### BEGIN SOLUTION\n",
        "\n",
        "    resp_score = 0\n",
        "    if respiratory_rate <= 0 :\n",
        "        risk =ValueError(\"invalid respiratory rate\")\n",
        "        return risk\n",
        "\n",
        "    if respiratory_rate >= 23 and respiratory_rate <=28 :\n",
        "        resp_score = 1\n",
        "    elif respiratory_rate > 28 :\n",
        "        resp_score = 2\n",
        "\n",
        "    pulse_ox_score = 0\n",
        "    if pulse_ox <= 0 or pulse_ox > 100:\n",
        "        risk = \"invalid pulse ox\"\n",
        "        return risk\n",
        "\n",
        "    if (pulse_ox >= 89 and pulse_ox <= 92) :\n",
        "        pulse_ox_score =2\n",
        "    elif (pulse_ox <=88) :\n",
        "        pulse_ox_score = 5\n",
        "\n",
        "    o2_score = 0\n",
        "    if o2_flow <= 0 :\n",
        "       #value Error\n",
        "        risk = \"invalid O2 flow rate\"\n",
        "        return risk\n",
        "\n",
        "    if (o2_flow == 3 or o2_flow == 4) :\n",
        "        o2_score = 4\n",
        "    elif (o2_flow  == 5 or o2_flow == 6) :\n",
        "        o2_score = 5\n",
        "\n",
        "    score = resp_score + pulse_ox_score + o2_score\n",
        "    if score <= 3 :\n",
        "        risk = \"low\"\n",
        "    elif score >=4 and score <= 6 :\n",
        "        risk = \"low-intermediate\"\n",
        "    elif score >=7 and score <= 9 :\n",
        "        risk = \"high-intermediate\"\n",
        "    elif score >=10 and score <= 12 :\n",
        "        risk = \"high\"\n",
        "\n",
        "    ### END SOLUTION\n",
        "\n",
        "    return risk"
      ]
    },
    {
      "cell_type": "code",
      "execution_count": 2,
      "metadata": {
        "id": "g70q96Y12Qc9",
        "outputId": "d92f87c9-b709-4f84-8f5e-909691971567",
        "colab": {
          "base_uri": "https://localhost:8080/",
          "height": 35
        }
      },
      "outputs": [
        {
          "output_type": "execute_result",
          "data": {
            "text/plain": [
              "'low-intermediate'"
            ],
            "application/vnd.google.colaboratory.intrinsic+json": {
              "type": "string"
            }
          },
          "metadata": {},
          "execution_count": 2
        }
      ],
      "source": [
        "qcsi(2, 3, 99)"
      ]
    },
    {
      "cell_type": "code",
      "execution_count": 3,
      "metadata": {
        "id": "QT1uG8l12Qc-",
        "outputId": "bb3143e1-82ac-437c-8793-a87314a38864",
        "colab": {
          "base_uri": "https://localhost:8080/",
          "height": 35
        }
      },
      "outputs": [
        {
          "output_type": "execute_result",
          "data": {
            "text/plain": [
              "'low'"
            ],
            "application/vnd.google.colaboratory.intrinsic+json": {
              "type": "string"
            }
          },
          "metadata": {},
          "execution_count": 3
        }
      ],
      "source": [
        "qcsi(24, 99, 99)"
      ]
    },
    {
      "cell_type": "code",
      "execution_count": 4,
      "metadata": {
        "id": "vuyinuUA2Qc-",
        "outputId": "b100f516-3d64-4c56-af74-76e9398f6d40",
        "colab": {
          "base_uri": "https://localhost:8080/",
          "height": 35
        }
      },
      "outputs": [
        {
          "output_type": "execute_result",
          "data": {
            "text/plain": [
              "'low-intermediate'"
            ],
            "application/vnd.google.colaboratory.intrinsic+json": {
              "type": "string"
            }
          },
          "metadata": {},
          "execution_count": 4
        }
      ],
      "source": [
        "qcsi(24, 2, 1000)"
      ]
    }
  ],
  "metadata": {
    "language_info": {
      "name": "python"
    },
    "colab": {
      "provenance": []
    },
    "kernelspec": {
      "name": "python3",
      "display_name": "Python 3"
    }
  },
  "nbformat": 4,
  "nbformat_minor": 0
}