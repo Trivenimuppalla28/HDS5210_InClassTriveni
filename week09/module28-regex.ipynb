{
  "cells": [
    {
      "cell_type": "markdown",
      "metadata": {
        "id": "2KSr__r87J-0"
      },
      "source": [
        "# Regular Expressions\n",
        "\n",
        "Regular Expressions can be hard. Luckily, there are some great online tools to help you build and test them:\n",
        "\n",
        "https://regex101.com/\n",
        "\n",
        "---"
      ]
    },
    {
      "cell_type": "code",
      "execution_count": 1,
      "metadata": {
        "id": "XGkRpKvH7J-3"
      },
      "outputs": [],
      "source": [
        "import re"
      ]
    },
    {
      "cell_type": "code",
      "execution_count": 2,
      "metadata": {
        "id": "DTjH3HUa7J-4"
      },
      "outputs": [],
      "source": [
        "phone1 = \"314-598-5494\""
      ]
    },
    {
      "cell_type": "code",
      "execution_count": 3,
      "metadata": {
        "id": "FmIKX3s57J-4"
      },
      "outputs": [],
      "source": [
        "matches = re.match(r\"(\\d{3})-(\\d{3})-(\\d{4})\",phone1)"
      ]
    },
    {
      "cell_type": "code",
      "execution_count": 4,
      "metadata": {
        "id": "NZ3Fzdir7J-5",
        "outputId": "94ec9e63-6172-46c0-f5fb-4887038b5433",
        "colab": {
          "base_uri": "https://localhost:8080/",
          "height": 35
        }
      },
      "outputs": [
        {
          "output_type": "execute_result",
          "data": {
            "text/plain": [
              "'314-598-5494'"
            ],
            "application/vnd.google.colaboratory.intrinsic+json": {
              "type": "string"
            }
          },
          "metadata": {},
          "execution_count": 4
        }
      ],
      "source": [
        "matches.group(0)"
      ]
    },
    {
      "cell_type": "code",
      "execution_count": 5,
      "metadata": {
        "id": "GEVi7yyO7J-6"
      },
      "outputs": [],
      "source": [
        "phones = [\n",
        "    '314-598-5494',\n",
        "    '(555) 321-1234',\n",
        "    '+1 555-123-4567'\n",
        "]"
      ]
    },
    {
      "cell_type": "code",
      "execution_count": 6,
      "metadata": {
        "id": "9fdoh8hp7J-6",
        "outputId": "dc5658f6-8b18-496f-8bc0-64335e1c080f",
        "colab": {
          "base_uri": "https://localhost:8080/"
        }
      },
      "outputs": [
        {
          "output_type": "stream",
          "name": "stdout",
          "text": [
            "314-598-5494\n",
            "(555) 321-1234\n",
            "Doesn't match: +1 555-123-4567\n"
          ]
        }
      ],
      "source": [
        "for phone in phones:\n",
        "    matches = re.match(r\"(\\(?\\d{3}\\)?)[-\\ ](\\d{3})-(\\d{4})\", phone)\n",
        "    if matches is None:\n",
        "        print(f\"Doesn't match: {phone}\")\n",
        "    else:\n",
        "        print(matches.group(0))"
      ]
    },
    {
      "cell_type": "markdown",
      "metadata": {
        "id": "SvVAu48C7J-6"
      },
      "source": [
        "# Name Parsing"
      ]
    },
    {
      "cell_type": "code",
      "execution_count": 7,
      "metadata": {
        "id": "E94BJUFh7J-6"
      },
      "outputs": [],
      "source": [
        "# Names are formatted as First MI. Last\n",
        "name=\"Paul E. Boal\""
      ]
    },
    {
      "cell_type": "code",
      "execution_count": 8,
      "metadata": {
        "id": "f73HlqLS7J-7"
      },
      "outputs": [],
      "source": [
        "matches = re.match(r\"^([\\w]+) ([A-Z])\\. ([\\w]+)\", name)"
      ]
    },
    {
      "cell_type": "code",
      "execution_count": 9,
      "metadata": {
        "id": "97qa75-Y7J-7",
        "outputId": "3ba828f0-c79e-447d-8f13-ab63ec969abc",
        "colab": {
          "base_uri": "https://localhost:8080/",
          "height": 35
        }
      },
      "outputs": [
        {
          "output_type": "execute_result",
          "data": {
            "text/plain": [
              "'Paul E. Boal'"
            ],
            "application/vnd.google.colaboratory.intrinsic+json": {
              "type": "string"
            }
          },
          "metadata": {},
          "execution_count": 9
        }
      ],
      "source": [
        "# The whole match\n",
        "matches.group(0)"
      ]
    },
    {
      "cell_type": "code",
      "execution_count": 10,
      "metadata": {
        "id": "DNW1VduX7J-7",
        "outputId": "441e23b8-fbb4-42db-c310-5f02ff890f9c",
        "colab": {
          "base_uri": "https://localhost:8080/",
          "height": 35
        }
      },
      "outputs": [
        {
          "output_type": "execute_result",
          "data": {
            "text/plain": [
              "'Paul'"
            ],
            "application/vnd.google.colaboratory.intrinsic+json": {
              "type": "string"
            }
          },
          "metadata": {},
          "execution_count": 10
        }
      ],
      "source": [
        "# THe first subgroup\n",
        "matches.group(1)"
      ]
    },
    {
      "cell_type": "code",
      "execution_count": 11,
      "metadata": {
        "id": "_vouE1V27J-7",
        "outputId": "5be34733-016f-4365-a532-bac8c868d982",
        "colab": {
          "base_uri": "https://localhost:8080/",
          "height": 35
        }
      },
      "outputs": [
        {
          "output_type": "execute_result",
          "data": {
            "text/plain": [
              "'E'"
            ],
            "application/vnd.google.colaboratory.intrinsic+json": {
              "type": "string"
            }
          },
          "metadata": {},
          "execution_count": 11
        }
      ],
      "source": [
        "matches.group(2)"
      ]
    },
    {
      "cell_type": "code",
      "execution_count": 12,
      "metadata": {
        "id": "f0BAAEH_7J-8",
        "outputId": "ac1444ce-8667-4ab9-b5ad-b057227a03e0",
        "colab": {
          "base_uri": "https://localhost:8080/",
          "height": 35
        }
      },
      "outputs": [
        {
          "output_type": "execute_result",
          "data": {
            "text/plain": [
              "'Boal'"
            ],
            "application/vnd.google.colaboratory.intrinsic+json": {
              "type": "string"
            }
          },
          "metadata": {},
          "execution_count": 12
        }
      ],
      "source": [
        "matches.group(3)"
      ]
    },
    {
      "cell_type": "markdown",
      "metadata": {
        "id": "5zXfMWEu7J-8"
      },
      "source": [
        "# Add on Credentials!"
      ]
    },
    {
      "cell_type": "code",
      "execution_count": 13,
      "metadata": {
        "id": "DFk3Z_t_7J-8"
      },
      "outputs": [],
      "source": [
        "names = [\n",
        "    \"Steven G. Sanders, MD\",\n",
        "    \"Alice D. Edwards, PhD\",\n",
        "    \"Joseph B. Lester, MD, PhD\"\n",
        "]"
      ]
    },
    {
      "cell_type": "code",
      "execution_count": 14,
      "metadata": {
        "id": "UWj_1eup7J-8",
        "outputId": "c2100f18-3b2e-42a4-f14c-d3827fb0bc82",
        "colab": {
          "base_uri": "https://localhost:8080/"
        }
      },
      "outputs": [
        {
          "output_type": "stream",
          "name": "stdout",
          "text": [
            "['Steven', 'G', 'Sanders', ['MD']]\n",
            "['Alice', 'D', 'Edwards', ['PhD']]\n",
            "['Joseph', 'B', 'Lester', ['MD', 'PhD']]\n"
          ]
        }
      ],
      "source": [
        "for name in names:\n",
        "    matches = re.match(r\"^([\\w]+) ([A-Z])\\. ([\\w]+), ([\\w\\.\\, ]+)\", name)\n",
        "    first = matches.group(1)\n",
        "    middle = matches.group(2)\n",
        "    last = matches.group(3)\n",
        "    creds = matches.group(4).split(', ')\n",
        "    print([first, middle, last, creds])"
      ]
    },
    {
      "cell_type": "markdown",
      "metadata": {
        "id": "TRfjL2ZD7J-8"
      },
      "source": [
        "# Date of Birth\n",
        "\n",
        "Month ##, ####"
      ]
    },
    {
      "cell_type": "code",
      "execution_count": 15,
      "metadata": {
        "id": "S2u3fzvy7J-8"
      },
      "outputs": [],
      "source": [
        "birthday=\"March 25, 2011\""
      ]
    },
    {
      "cell_type": "code",
      "execution_count": 16,
      "metadata": {
        "id": "Tm46X0s57J-9"
      },
      "outputs": [],
      "source": [
        "matches = re.match(r\"([a-zA-Z]+) ([0-9]{1,2}), ([0-9]{4})\", birthday)"
      ]
    },
    {
      "cell_type": "code",
      "execution_count": 17,
      "metadata": {
        "id": "tw3cLBaM7J-9",
        "outputId": "42254a90-ace8-4bff-8e58-7cc63c891d1b",
        "colab": {
          "base_uri": "https://localhost:8080/",
          "height": 35
        }
      },
      "outputs": [
        {
          "output_type": "execute_result",
          "data": {
            "text/plain": [
              "'March 25, 2011'"
            ],
            "application/vnd.google.colaboratory.intrinsic+json": {
              "type": "string"
            }
          },
          "metadata": {},
          "execution_count": 17
        }
      ],
      "source": [
        "matches.group(0)"
      ]
    },
    {
      "cell_type": "code",
      "execution_count": 18,
      "metadata": {
        "id": "ugFFS2MZ7J-9",
        "outputId": "927c48bd-e953-49fd-ec8a-d925e09fd060",
        "colab": {
          "base_uri": "https://localhost:8080/",
          "height": 35
        }
      },
      "outputs": [
        {
          "output_type": "execute_result",
          "data": {
            "text/plain": [
              "'March'"
            ],
            "application/vnd.google.colaboratory.intrinsic+json": {
              "type": "string"
            }
          },
          "metadata": {},
          "execution_count": 18
        }
      ],
      "source": [
        "matches.group(1)"
      ]
    },
    {
      "cell_type": "code",
      "execution_count": 19,
      "metadata": {
        "id": "yMN7NgQA7J-9",
        "outputId": "3d06907e-3ac0-44eb-f8db-f75c697f727a",
        "colab": {
          "base_uri": "https://localhost:8080/",
          "height": 35
        }
      },
      "outputs": [
        {
          "output_type": "execute_result",
          "data": {
            "text/plain": [
              "'25'"
            ],
            "application/vnd.google.colaboratory.intrinsic+json": {
              "type": "string"
            }
          },
          "metadata": {},
          "execution_count": 19
        }
      ],
      "source": [
        "matches.group(2)"
      ]
    },
    {
      "cell_type": "code",
      "execution_count": 20,
      "metadata": {
        "id": "scijwq0g7J-9",
        "outputId": "41ee6c73-a777-4e66-8043-6e035a0df1ad",
        "colab": {
          "base_uri": "https://localhost:8080/",
          "height": 35
        }
      },
      "outputs": [
        {
          "output_type": "execute_result",
          "data": {
            "text/plain": [
              "'2011'"
            ],
            "application/vnd.google.colaboratory.intrinsic+json": {
              "type": "string"
            }
          },
          "metadata": {},
          "execution_count": 20
        }
      ],
      "source": [
        "matches.group(3)"
      ]
    },
    {
      "cell_type": "code",
      "execution_count": 20,
      "metadata": {
        "id": "X2ZFzegY7J-9"
      },
      "outputs": [],
      "source": []
    }
  ],
  "metadata": {
    "kernelspec": {
      "display_name": "Python 3",
      "language": "python",
      "name": "python3"
    },
    "language_info": {
      "codemirror_mode": {
        "name": "ipython",
        "version": 3
      },
      "file_extension": ".py",
      "mimetype": "text/x-python",
      "name": "python",
      "nbconvert_exporter": "python",
      "pygments_lexer": "ipython3",
      "version": "3.6.7"
    },
    "colab": {
      "provenance": []
    }
  },
  "nbformat": 4,
  "nbformat_minor": 0
}